{
 "cells": [
  {
   "cell_type": "markdown",
   "metadata": {},
   "source": [
    "# Sensor Data\n",
    "Transfer from all 12 Racks over 6 years worth of csv into one pandas dataframe.\n",
    "pd.concat needs to happen outside the loop, or the time will exponentially slow down\n",
    "due to the way pandas copies dataframes."
   ]
  },
  {
   "cell_type": "code",
   "execution_count": null,
   "metadata": {},
   "outputs": [],
   "source": [
    "import pandas as pd\n",
    "import os\n",
    "import re\n",
    "from src.data.dataframe import createDataFrame, formatDataFrame\n",
    "from sqlalchemy import create_engine\n",
    "\n",
    "\n",
    "directory = \"L:/Cavefish/Facility/Life Support Systems/PLC Data Logs/Individual Rack Data\"\n",
    "\n",
    "# dataframe creation\n",
    "sensor_df = pd.DataFrame(columns={'rack_num', 'Date_Time',\n",
    "                         'Level', 'Temperature', 'pH', 'Conductivity', 'Flow', 'DO'})\n",
    "\n",
    "# create a list to house all the csv dataframes created\n",
    "super_df = []\n",
    "\n",
    "# walk through all the subdirectories and files\n",
    "for root, dirs, files in os.walk(directory):\n",
    "    for filename in files:\n",
    "        rack_number = re.search(r'CF(.*?)\\.', filename)[1]\n",
    "        try:\n",
    "            if 'Sensor' in filename:\n",
    "                print(os.path.join(root, filename))\n",
    "                df_temp = createDataFrame()\n",
    "                super_df.append(df_temp)\n",
    "        except (TypeError) as error:\n",
    "            print(error)\n",
    "            continue\n",
    "\n",
    "sensor_df = formatDataFrame(super_df)\n",
    "sensor_df.drop(['DO'], axis=1, inplace=True)\n",
    "sensor_df = sensor_df[['rack_num', 'Date_Time', 'pH',\n",
    "                                       'Conductivity', 'Temperature', 'Flow', 'Level']]\n",
    "sensor_df.drop_duplicates(\n",
    "     subset=['Date_Time'], inplace=True)\n",
    "\n",
    "%store sensor_df"
   ]
  }
 ],
 "metadata": {
  "interpreter": {
   "hash": "a8f5863342bde2d50878861166c65e78d06ae2cfde69de5606dc6e5d3f968ba6"
  },
  "kernelspec": {
   "display_name": "Python 3.10.5 64-bit (windows store)",
   "language": "python",
   "name": "python3"
  },
  "language_info": {
   "codemirror_mode": {
    "name": "ipython",
    "version": 3
   },
   "file_extension": ".py",
   "mimetype": "text/x-python",
   "name": "python",
   "nbconvert_exporter": "python",
   "pygments_lexer": "ipython3",
   "version": "3.10.5"
  },
  "orig_nbformat": 4
 },
 "nbformat": 4,
 "nbformat_minor": 2
}
