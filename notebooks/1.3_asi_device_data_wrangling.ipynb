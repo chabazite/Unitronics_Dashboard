{
 "cells": [
  {
   "cell_type": "code",
   "execution_count": null,
   "metadata": {},
   "outputs": [],
   "source": [
    "import pandas as pd\n",
    "import os\n",
    "import re\n",
    "from sqlalchemy import create_engine\n",
    "from src.dataframe import createDataFrame, formatDataFrame\n",
    "\n",
    "dir_name = \"L:/Cavefish/Facility/Life Support Systems/PLC Data Logs/Individual Rack Data\"\n",
    "\n",
    "#dataframe creation\n",
    "device_df = pd.DataFrame(columns={'rack_num', 'Date_Time' 'Device', 'State'})\n",
    "\n",
    "super_df = []\n",
    "\n",
    "for root, dirs, files in os.walk(dir_name):\n",
    "    for filename in files:\n",
    "        rack_num = re.search(r'CF(.*?)\\.', filename)[1]\n",
    "        try:\n",
    "            if 'Device' in filename:\n",
    "                print(os.path.join(root, filename))\n",
    "                df_temp = createDataFrame()\n",
    "                super_df.append(df_temp)\n",
    "        except (TypeError) as error:\n",
    "            print(error)\n",
    "            continue\n",
    "\n",
    "\n",
    "    \n",
    "device_df = formatDataFrame(super_df)\n",
    "device_df = device_df[['rack_num', 'Date_Time', 'Device', 'State']]\n",
    "device_df.drop_duplicates(\n",
    "     subset=['Date_Time'], inplace=True)\n",
    "\n",
    "%store device_df"
   ]
  }
 ],
 "metadata": {
  "interpreter": {
   "hash": "a8f5863342bde2d50878861166c65e78d06ae2cfde69de5606dc6e5d3f968ba6"
  },
  "kernelspec": {
   "display_name": "Python 3.10.5 64-bit (windows store)",
   "language": "python",
   "name": "python3"
  },
  "language_info": {
   "codemirror_mode": {
    "name": "ipython",
    "version": 3
   },
   "file_extension": ".py",
   "mimetype": "text/x-python",
   "name": "python",
   "nbconvert_exporter": "python",
   "pygments_lexer": "ipython3",
   "version": "3.10.5"
  },
  "orig_nbformat": 4
 },
 "nbformat": 4,
 "nbformat_minor": 2
}
