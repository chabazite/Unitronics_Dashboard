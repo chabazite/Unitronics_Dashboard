{
 "cells": [
  {
   "cell_type": "code",
   "execution_count": 1,
   "metadata": {},
   "outputs": [
    {
     "data": {
      "text/html": [
       "<div>\n",
       "<style scoped>\n",
       "    .dataframe tbody tr th:only-of-type {\n",
       "        vertical-align: middle;\n",
       "    }\n",
       "\n",
       "    .dataframe tbody tr th {\n",
       "        vertical-align: top;\n",
       "    }\n",
       "\n",
       "    .dataframe thead th {\n",
       "        text-align: right;\n",
       "    }\n",
       "</style>\n",
       "<table border=\"1\" class=\"dataframe\">\n",
       "  <thead>\n",
       "    <tr style=\"text-align: right;\">\n",
       "      <th></th>\n",
       "      <th>Rack_Number</th>\n",
       "      <th>Date_E</th>\n",
       "      <th>Device_E</th>\n",
       "      <th>State_E</th>\n",
       "    </tr>\n",
       "  </thead>\n",
       "  <tbody>\n",
       "    <tr>\n",
       "      <th>0</th>\n",
       "      <td>Rack 12</td>\n",
       "      <td>11/28/2021</td>\n",
       "      <td>pH Pump</td>\n",
       "      <td>10</td>\n",
       "    </tr>\n",
       "    <tr>\n",
       "      <th>1</th>\n",
       "      <td>Rack 12</td>\n",
       "      <td>11/29/2021</td>\n",
       "      <td>pH Pump</td>\n",
       "      <td>23</td>\n",
       "    </tr>\n",
       "    <tr>\n",
       "      <th>2</th>\n",
       "      <td>Rack 12</td>\n",
       "      <td>12/1/2021</td>\n",
       "      <td>pH Pump</td>\n",
       "      <td>24</td>\n",
       "    </tr>\n",
       "  </tbody>\n",
       "</table>\n",
       "</div>"
      ],
      "text/plain": [
       "  Rack_Number      Date_E Device_E  State_E\n",
       "0     Rack 12  11/28/2021  pH Pump       10\n",
       "1     Rack 12  11/29/2021  pH Pump       23\n",
       "2     Rack 12   12/1/2021  pH Pump       24"
      ]
     },
     "execution_count": 1,
     "metadata": {},
     "output_type": "execute_result"
    }
   ],
   "source": [
    "#import the requ\n",
    "import pandas as pd\n",
    "import plotly.express as px\n",
    "import plotly.graph_objects as go\n",
    "\n",
    "#read in the data\n",
    "df_water_quality=pd.read_csv('..\\data\\Sensor_Input.csv')\n",
    "df_equip_state=pd.read_csv('..\\data\\Device_Log.csv')\n",
    "\n",
    "conductivity_data=df_water_quality.groupby(['Rack_Number','Time'])['Conductivity'].sum().reset_index()\n",
    "    # pH\n",
    "ph_data=df_water_quality.groupby(['Rack_Number','Time'])['pH'].sum().reset_index()\n",
    "    # Flow\n",
    "\n",
    "ph=df_equip_state[(df_equip_state['Device_E']=='pH Pump')].groupby(['Rack_Number','Date_E','Device_E'])['State_E'].sum().reset_index()\n",
    "#Cd=df_equip_state[(df_equip_state['Device_E']=='Conductivity Pump')].groupby(['Rack_Number','Date_E','Device_E'])['State_E'].sum()\n",
    "#ph=df_equip_state[(df_equip_state['Device_E']=='pH Pump')].groupby(['Rack_Number','Date_E','Device_E'])['State_E'].sum()\n",
    "#ph=df_equip_state[(df_equip_state['Device_E']=='pH Pump')].groupby(['Rack_Number','Date_E','Device_E'])['State_E'].sum()\n",
    "\n",
    "#pH_pump_data=df_equip_state.apply(lambda x: x[x['Device_E']=='pH Pump']).groupby(['Rack_Number','Date_E'])['State_E'].sum().reset_index()\n",
    "\n",
    "#pH_pump_fig=px.bar(pH_pump_data, x='Date', y='State', color='Rack_Number',title= \"pH Pump State\")\n",
    "\n",
    "ph_fig = px.line(ph_data, x='Time', y='pH', color='Rack_Number',title='pH')\n",
    "        \n",
    "conductivity_fig = px.line(conductivity_data, x='Time', y='Conductivity', color='Rack_Number', title='Conductivity')\n",
    "\n",
    "pH_pump_fig=px.bar(ph, x='Date_E', y='State_E', color='Rack_Number',title= \"pH Pump State\")\n",
    "\n",
    "\n",
    "ph.head()\n",
    "\n",
    "\n"
   ]
  }
 ],
 "metadata": {
  "interpreter": {
   "hash": "2711c904806614a597c75d51fd60aa72da23d3f5da51f35a86d1df4ae62bab2e"
  },
  "kernelspec": {
   "display_name": "Python 3.10.1 64-bit",
   "language": "python",
   "name": "python3"
  },
  "language_info": {
   "codemirror_mode": {
    "name": "ipython",
    "version": 3
   },
   "file_extension": ".py",
   "mimetype": "text/x-python",
   "name": "python",
   "nbconvert_exporter": "python",
   "pygments_lexer": "ipython3",
   "version": "3.10.1"
  },
  "orig_nbformat": 4
 },
 "nbformat": 4,
 "nbformat_minor": 2
}
